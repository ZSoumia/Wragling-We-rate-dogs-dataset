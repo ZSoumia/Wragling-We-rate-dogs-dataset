{
 "cells": [
  {
   "cell_type": "markdown",
   "metadata": {},
   "source": [
    "# Wrangle Report \n",
    "> by Soumia Zohra El Mestari"
   ]
  },
  {
   "cell_type": "markdown",
   "metadata": {},
   "source": [
    "## About the dataset "
   ]
  },
  {
   "cell_type": "markdown",
   "metadata": {},
   "source": [
    "\"WeRateDogs\" is a twitter accout that rates dogs So this data set was gathered from this Twitter account."
   ]
  },
  {
   "cell_type": "markdown",
   "metadata": {},
   "source": [
    "## 1- Gathering data : "
   ]
  },
  {
   "cell_type": "markdown",
   "metadata": {},
   "source": [
    "data was gathered from 3 diffrent resources : <br>\n",
    "1- Twitter archive .<br>\n",
    "2- Image prediction file .<br>\n",
    "3- tweets informations Using Twitter API"
   ]
  },
  {
   "cell_type": "markdown",
   "metadata": {},
   "source": [
    "## 2- Data Accessing :"
   ]
  },
  {
   "cell_type": "markdown",
   "metadata": {},
   "source": [
    "While assecing these data several issues were found . <br>\n",
    "#### Data Cleaning issues : \n",
    "- Indetected missing values in name and dog stages fill in with 'None' \n",
    "- Missing values in the following columns : 'in_reply_to_status_id' , 'in_reply_to_user_id','retweeted_status_id' , 'retweeted_status_user_id' , 'retweeted_status_timestamp' and 'expanded_urls' **Nothing can be done for these missing values**\n",
    "- 'Source' as an html link tag => needs reformatting to extract only the source \n",
    "- Wrong names values  ( names that starts with lower case) \n",
    "- timestamp in tArchive_df should be  of date type not a string \n",
    "- We have 2356 tweet in the archive and only 2354 in the info dataFrame => missing informations for two rows .\n",
    "- Reply_status_id and other ids as float64 when they should be of Integer type.\n",
    "- The dataSet contains retweets . \n",
    "- Html entities in text column such as : &amp needs to be removed.\n",
    "- Source should be of type Category instead of String ( object in pandas ) \n",
    "\n",
    "#### Data tidiness issues :\n",
    "- Dog stage values in four columns where each variable should be in a column .\n",
    "- Join tweets informations , image predictions to twitter Archive"
   ]
  },
  {
   "cell_type": "markdown",
   "metadata": {},
   "source": [
    "## 3- Data Cleaning :"
   ]
  },
  {
   "cell_type": "markdown",
   "metadata": {},
   "source": [
    "**Phase1**:<br>\n",
    "I started with data tidiness issues because they involve the structure of the data so its better to start with them : <br> \n",
    "1- One of tidiness rules is that each variable has a column , so I transformed the four columns of dog stages into one column named \"dog_stage\" and droped the dogs' stages values columns.<br> \n",
    "2- I joined the 3 datasets into one dataset because they all represent one observational unit."
   ]
  },
  {
   "cell_type": "markdown",
   "metadata": {},
   "source": [
    "**Phase2:** Data quality issues <br>\n",
    "1- Because retweets are not taken into consideration in our analysis I started by removing them from the dataset.<br>\n",
    "2- Source variable contained an html tag instead of the source value only , so I extracted the true value and reformate the column values .<br>\n",
    "3- Source variable was a String when it should be of type Category => the type of this variable has been set to be \"Category\"<br>\n",
    "4- the variable name had wrong names , the possible found right names were extracted from the \"text\" variable and set as names , and for the rest of wrong names the actual name was not given so they were missing values => needed to be set as Nan . <br>\n",
    "5- Missing values in name variable were not detected as they were set to be 'None' , so these values were converted to be Nan when no information about the actual name was found in the respective text column, otherwise the right value was extracted .  <br>\n",
    "6- Missing values in dog_stage variable were not detected as they were set to be 'None'  , so these \"None\"s were converted to Nan .<br>\n",
    "7- The timeStamp was of type string , So this variable was converted to datetime.<br>\n",
    "8- Html entities were found in text so &amp were replaced with space to enhance readability.<br>"
   ]
  },
  {
   "cell_type": "markdown",
   "metadata": {},
   "source": [
    "## 4- Data storing "
   ]
  },
  {
   "cell_type": "markdown",
   "metadata": {},
   "source": [
    "The cleaned data were stored in a csv file named twitter_archive_master.csv"
   ]
  }
 ],
 "metadata": {
  "kernelspec": {
   "display_name": "Python 3",
   "language": "python",
   "name": "python3"
  },
  "language_info": {
   "codemirror_mode": {
    "name": "ipython",
    "version": 3
   },
   "file_extension": ".py",
   "mimetype": "text/x-python",
   "name": "python",
   "nbconvert_exporter": "python",
   "pygments_lexer": "ipython3",
   "version": "3.6.3"
  }
 },
 "nbformat": 4,
 "nbformat_minor": 2
}
